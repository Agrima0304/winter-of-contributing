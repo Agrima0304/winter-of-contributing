{
 "cells": [
  {
   "cell_type": "markdown",
   "metadata": {},
   "source": [
    "# Source Code\n",
    "\n",
    "1. Apple.java"
   ]
  },
  {
   "cell_type": "code",
   "execution_count": null,
   "metadata": {},
   "outputs": [],
   "source": [
    "package com.saniya.Fruits;\n",
    "\n",
    "import org.springframework.stereotype.Component;\n",
    "\n",
    "@Component\n",
    "public class Apple implements FruitPicker {\n",
    "\n",
    "\tpublic void getFruit() {\n",
    "\t\t\n",
    "\t\tSystem.out.println(\"You selected a Apple, 'A Apple a day keeps Doctor away :)'\");\n",
    "\t}\n",
    "\n",
    "}\n"
   ]
  },
  {
   "cell_type": "markdown",
   "metadata": {},
   "source": [
    "2. Orange.java"
   ]
  },
  {
   "cell_type": "code",
   "execution_count": null,
   "metadata": {},
   "outputs": [],
   "source": [
    "package com.saniya.Fruits;\n",
    "\n",
    "import org.springframework.stereotype.Component;\n",
    "@Component\n",
    "\n",
    "public class Orange implements FruitPicker {\n",
    "\n",
    "\tpublic void getFruit() {\n",
    "\t\n",
    "\t\tSystem.out.println(\"You selected a Orange, 'A Orange fruit is always good :)'\");\n",
    "\t}\n",
    "\n",
    "}\n"
   ]
  },
  {
   "cell_type": "markdown",
   "metadata": {},
   "source": [
    "3. FruitPicker.java"
   ]
  },
  {
   "cell_type": "code",
   "execution_count": null,
   "metadata": {},
   "outputs": [],
   "source": [
    "package com.saniya.Fruits;\n",
    "\n",
    "public interface FruitPicker {\n",
    "\tvoid getFruit();\n",
    "\n",
    "}\n"
   ]
  },
  {
   "cell_type": "markdown",
   "metadata": {},
   "source": [
    "4. AppConfig.java"
   ]
  },
  {
   "cell_type": "code",
   "execution_count": null,
   "metadata": {},
   "outputs": [],
   "source": [
    "package com.saniya.Fruits;\n",
    "\n",
    "import org.springframework.context.annotation.ComponentScan;\n",
    "import org.springframework.context.annotation.Configuration;\n",
    "\n",
    "@Configuration\n",
    "@ComponentScan(basePackages=\"com.saniya.Fruits\")\n",
    "public class AppConfig {\t\n",
    "\n",
    "}\n"
   ]
  },
  {
   "cell_type": "markdown",
   "metadata": {},
   "source": [
    "5. App.java"
   ]
  },
  {
   "cell_type": "code",
   "execution_count": null,
   "metadata": {},
   "outputs": [],
   "source": [
    "package com.saniya.Fruits;\n",
    "\n",
    "import org.springframework.context.ApplicationContext;\n",
    "import org.springframework.context.annotation.AnnotationConfigApplicationContext;\n",
    "\n",
    "public class App \n",
    "{\n",
    "    public static void main( String[] args )\n",
    "    {\n",
    "    \tApplicationContext factory=new AnnotationConfigApplicationContext(AppConfig.class);\n",
    "    \tFruit f1=factory.getBean(Fruit.class);\n",
    "    \tf1.config();\n",
    "    }\n",
    "}\n"
   ]
  },
  {
   "cell_type": "markdown",
   "metadata": {},
   "source": [
    "6. Fruit.java"
   ]
  },
  {
   "cell_type": "code",
   "execution_count": null,
   "metadata": {},
   "outputs": [],
   "source": [
    "package com.saniya.Fruits;\n",
    "\n",
    "import org.springframework.beans.factory.annotation.Autowired;\n",
    "import org.springframework.beans.factory.annotation.Qualifier;\n",
    "import org.springframework.stereotype.Component;\n",
    "@Component\n",
    "\n",
    "public class Fruit {\n",
    "\t@Autowired\n",
    "\t@Qualifier(\"orange\")\n",
    "\tFruitPicker fruit;\n",
    "\n",
    "\tpublic FruitPicker getFruit() {\n",
    "\t\treturn fruit;\n",
    "\t}\n",
    "\n",
    "\tpublic void setFruit(FruitPicker fruit) {\n",
    "\t\tthis.fruit = fruit;\n",
    "\t}\n",
    "\t\n",
    "\tpublic void config()\n",
    "\t{\n",
    "\t\tfruit.getFruit();\n",
    "\t}\n",
    "}\n"
   ]
  }
 ],
 "metadata": {
  "language_info": {
   "name": "python"
  },
  "orig_nbformat": 4
 },
 "nbformat": 4,
 "nbformat_minor": 2
}
